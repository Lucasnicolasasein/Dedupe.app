{
 "cells": [
  {
   "cell_type": "code",
   "execution_count": 2,
   "metadata": {},
   "outputs": [
    {
     "name": "stdout",
     "output_type": "stream",
     "text": [
      "Requirement already satisfied: ipywidgets in c:\\users\\lucas\\anaconda3\\lib\\site-packages (7.5.1)\n",
      "Requirement already satisfied: ipykernel>=4.5.1 in c:\\users\\lucas\\anaconda3\\lib\\site-packages (from ipywidgets) (5.1.4)\n",
      "Requirement already satisfied: ipython>=4.0.0; python_version >= \"3.3\" in c:\\users\\lucas\\anaconda3\\lib\\site-packages (from ipywidgets) (7.12.0)\n",
      "Requirement already satisfied: traitlets>=4.3.1 in c:\\users\\lucas\\anaconda3\\lib\\site-packages (from ipywidgets) (4.3.3)\n",
      "Requirement already satisfied: widgetsnbextension~=3.5.0 in c:\\users\\lucas\\anaconda3\\lib\\site-packages (from ipywidgets) (3.5.1)\n",
      "Requirement already satisfied: nbformat>=4.2.0 in c:\\users\\lucas\\anaconda3\\lib\\site-packages (from ipywidgets) (5.0.4)\n",
      "Requirement already satisfied: tornado>=4.2 in c:\\users\\lucas\\anaconda3\\lib\\site-packages (from ipykernel>=4.5.1->ipywidgets) (6.0.3)\n",
      "Requirement already satisfied: jupyter-client in c:\\users\\lucas\\anaconda3\\lib\\site-packages (from ipykernel>=4.5.1->ipywidgets) (5.3.4)\n",
      "Requirement already satisfied: backcall in c:\\users\\lucas\\anaconda3\\lib\\site-packages (from ipython>=4.0.0; python_version >= \"3.3\"->ipywidgets) (0.1.0)\n",
      "Requirement already satisfied: setuptools>=18.5 in c:\\users\\lucas\\anaconda3\\lib\\site-packages (from ipython>=4.0.0; python_version >= \"3.3\"->ipywidgets) (45.2.0.post20200210)\n",
      "Requirement already satisfied: decorator in c:\\users\\lucas\\anaconda3\\lib\\site-packages (from ipython>=4.0.0; python_version >= \"3.3\"->ipywidgets) (4.4.1)\n",
      "Requirement already satisfied: prompt-toolkit!=3.0.0,!=3.0.1,<3.1.0,>=2.0.0 in c:\\users\\lucas\\anaconda3\\lib\\site-packages (from ipython>=4.0.0; python_version >= \"3.3\"->ipywidgets) (3.0.3)\n",
      "Requirement already satisfied: jedi>=0.10 in c:\\users\\lucas\\anaconda3\\lib\\site-packages (from ipython>=4.0.0; python_version >= \"3.3\"->ipywidgets) (0.14.1)\n",
      "Requirement already satisfied: colorama; sys_platform == \"win32\" in c:\\users\\lucas\\anaconda3\\lib\\site-packages (from ipython>=4.0.0; python_version >= \"3.3\"->ipywidgets) (0.4.3)\n",
      "Requirement already satisfied: pygments in c:\\users\\lucas\\anaconda3\\lib\\site-packages (from ipython>=4.0.0; python_version >= \"3.3\"->ipywidgets) (2.5.2)\n",
      "Requirement already satisfied: pickleshare in c:\\users\\lucas\\anaconda3\\lib\\site-packages (from ipython>=4.0.0; python_version >= \"3.3\"->ipywidgets) (0.7.5)\n",
      "Requirement already satisfied: six in c:\\users\\lucas\\anaconda3\\lib\\site-packages (from traitlets>=4.3.1->ipywidgets) (1.14.0)\n",
      "Requirement already satisfied: ipython-genutils in c:\\users\\lucas\\anaconda3\\lib\\site-packages (from traitlets>=4.3.1->ipywidgets) (0.2.0)\n",
      "Requirement already satisfied: notebook>=4.4.1 in c:\\users\\lucas\\anaconda3\\lib\\site-packages (from widgetsnbextension~=3.5.0->ipywidgets) (6.0.3)\n",
      "Requirement already satisfied: jsonschema!=2.5.0,>=2.4 in c:\\users\\lucas\\anaconda3\\lib\\site-packages (from nbformat>=4.2.0->ipywidgets) (3.2.0)\n",
      "Requirement already satisfied: jupyter-core in c:\\users\\lucas\\anaconda3\\lib\\site-packages (from nbformat>=4.2.0->ipywidgets) (4.6.1)\n",
      "Requirement already satisfied: python-dateutil>=2.1 in c:\\users\\lucas\\anaconda3\\lib\\site-packages (from jupyter-client->ipykernel>=4.5.1->ipywidgets) (2.8.1)\n",
      "Requirement already satisfied: pyzmq>=13 in c:\\users\\lucas\\anaconda3\\lib\\site-packages (from jupyter-client->ipykernel>=4.5.1->ipywidgets) (18.1.1)\n",
      "Requirement already satisfied: pywin32>=1.0; sys_platform == \"win32\" in c:\\users\\lucas\\anaconda3\\lib\\site-packages (from jupyter-client->ipykernel>=4.5.1->ipywidgets) (227)\n",
      "Requirement already satisfied: wcwidth in c:\\users\\lucas\\anaconda3\\lib\\site-packages (from prompt-toolkit!=3.0.0,!=3.0.1,<3.1.0,>=2.0.0->ipython>=4.0.0; python_version >= \"3.3\"->ipywidgets) (0.1.8)\n",
      "Requirement already satisfied: parso>=0.5.0 in c:\\users\\lucas\\anaconda3\\lib\\site-packages (from jedi>=0.10->ipython>=4.0.0; python_version >= \"3.3\"->ipywidgets) (0.5.2)\n",
      "Requirement already satisfied: prometheus-client in c:\\users\\lucas\\anaconda3\\lib\\site-packages (from notebook>=4.4.1->widgetsnbextension~=3.5.0->ipywidgets) (0.7.1)\n",
      "Requirement already satisfied: jinja2 in c:\\users\\lucas\\anaconda3\\lib\\site-packages (from notebook>=4.4.1->widgetsnbextension~=3.5.0->ipywidgets) (2.11.1)\n",
      "Requirement already satisfied: Send2Trash in c:\\users\\lucas\\anaconda3\\lib\\site-packages (from notebook>=4.4.1->widgetsnbextension~=3.5.0->ipywidgets) (1.5.0)\n",
      "Requirement already satisfied: terminado>=0.8.1 in c:\\users\\lucas\\anaconda3\\lib\\site-packages (from notebook>=4.4.1->widgetsnbextension~=3.5.0->ipywidgets) (0.8.3)\n",
      "Requirement already satisfied: nbconvert in c:\\users\\lucas\\anaconda3\\lib\\site-packages (from notebook>=4.4.1->widgetsnbextension~=3.5.0->ipywidgets) (5.6.1)\n",
      "Requirement already satisfied: importlib-metadata; python_version < \"3.8\" in c:\\users\\lucas\\anaconda3\\lib\\site-packages (from jsonschema!=2.5.0,>=2.4->nbformat>=4.2.0->ipywidgets) (1.5.0)\n",
      "Requirement already satisfied: pyrsistent>=0.14.0 in c:\\users\\lucas\\anaconda3\\lib\\site-packages (from jsonschema!=2.5.0,>=2.4->nbformat>=4.2.0->ipywidgets) (0.15.7)\n",
      "Requirement already satisfied: attrs>=17.4.0 in c:\\users\\lucas\\anaconda3\\lib\\site-packages (from jsonschema!=2.5.0,>=2.4->nbformat>=4.2.0->ipywidgets) (19.3.0)\n",
      "Requirement already satisfied: MarkupSafe>=0.23 in c:\\users\\lucas\\anaconda3\\lib\\site-packages (from jinja2->notebook>=4.4.1->widgetsnbextension~=3.5.0->ipywidgets) (1.1.1)\n",
      "Requirement already satisfied: bleach in c:\\users\\lucas\\anaconda3\\lib\\site-packages (from nbconvert->notebook>=4.4.1->widgetsnbextension~=3.5.0->ipywidgets) (3.1.0)\n",
      "Requirement already satisfied: mistune<2,>=0.8.1 in c:\\users\\lucas\\anaconda3\\lib\\site-packages (from nbconvert->notebook>=4.4.1->widgetsnbextension~=3.5.0->ipywidgets) (0.8.4)\n",
      "Requirement already satisfied: testpath in c:\\users\\lucas\\anaconda3\\lib\\site-packages (from nbconvert->notebook>=4.4.1->widgetsnbextension~=3.5.0->ipywidgets) (0.4.4)\n",
      "Requirement already satisfied: pandocfilters>=1.4.1 in c:\\users\\lucas\\anaconda3\\lib\\site-packages (from nbconvert->notebook>=4.4.1->widgetsnbextension~=3.5.0->ipywidgets) (1.4.2)\n",
      "Requirement already satisfied: defusedxml in c:\\users\\lucas\\anaconda3\\lib\\site-packages (from nbconvert->notebook>=4.4.1->widgetsnbextension~=3.5.0->ipywidgets) (0.6.0)\n",
      "Requirement already satisfied: entrypoints>=0.2.2 in c:\\users\\lucas\\anaconda3\\lib\\site-packages (from nbconvert->notebook>=4.4.1->widgetsnbextension~=3.5.0->ipywidgets) (0.3)\n",
      "Requirement already satisfied: zipp>=0.5 in c:\\users\\lucas\\anaconda3\\lib\\site-packages (from importlib-metadata; python_version < \"3.8\"->jsonschema!=2.5.0,>=2.4->nbformat>=4.2.0->ipywidgets) (2.2.0)\n",
      "Requirement already satisfied: webencodings in c:\\users\\lucas\\anaconda3\\lib\\site-packages (from bleach->nbconvert->notebook>=4.4.1->widgetsnbextension~=3.5.0->ipywidgets) (0.5.1)\n",
      "Note: you may need to restart the kernel to use updated packages.\n"
     ]
    }
   ],
   "source": [
    "pip install ipywidgets"
   ]
  },
  {
   "cell_type": "code",
   "execution_count": 3,
   "metadata": {
    "scrolled": true
   },
   "outputs": [
    {
     "name": "stdout",
     "output_type": "stream",
     "text": [
      "Requirement already satisfied: pandas-dedupe in c:\\users\\lucas\\anaconda3\\lib\\site-packages (1.5.0)\n",
      "Requirement already satisfied: unidecode in c:\\users\\lucas\\anaconda3\\lib\\site-packages (from pandas-dedupe) (1.3.2)\n",
      "Requirement already satisfied: pandas in c:\\users\\lucas\\anaconda3\\lib\\site-packages (from pandas-dedupe) (1.3.5)\n",
      "Requirement already satisfied: dedupe>=2.0.0 in c:\\users\\lucas\\anaconda3\\lib\\site-packages (from pandas-dedupe) (2.0.0)\n",
      "Requirement already satisfied: python-dateutil>=2.7.3 in c:\\users\\lucas\\anaconda3\\lib\\site-packages (from pandas->pandas-dedupe) (2.8.1)\n",
      "Requirement already satisfied: pytz>=2017.3 in c:\\users\\lucas\\anaconda3\\lib\\site-packages (from pandas->pandas-dedupe) (2019.3)\n",
      "Requirement already satisfied: numpy>=1.17.3; platform_machine != \"aarch64\" and platform_machine != \"arm64\" and python_version < \"3.10\" in c:\\users\\lucas\\anaconda3\\lib\\site-packages (from pandas->pandas-dedupe) (1.20.3)\n",
      "Requirement already satisfied: highered>=0.2.0 in c:\\users\\lucas\\anaconda3\\lib\\site-packages (from dedupe>=2.0.0->pandas-dedupe) (0.2.1)\n",
      "Requirement already satisfied: fastcluster in c:\\users\\lucas\\anaconda3\\lib\\site-packages (from dedupe>=2.0.0->pandas-dedupe) (1.1.24)\n",
      "Requirement already satisfied: dedupe-hcluster in c:\\users\\lucas\\anaconda3\\lib\\site-packages (from dedupe>=2.0.0->pandas-dedupe) (0.3.9)\n",
      "Requirement already satisfied: affinegap>=1.3 in c:\\users\\lucas\\anaconda3\\lib\\site-packages (from dedupe>=2.0.0->pandas-dedupe) (1.12)\n",
      "Requirement already satisfied: haversine>=0.4.1 in c:\\users\\lucas\\anaconda3\\lib\\site-packages (from dedupe>=2.0.0->pandas-dedupe) (2.5.1)\n",
      "Requirement already satisfied: typing-extensions in c:\\users\\lucas\\anaconda3\\lib\\site-packages (from dedupe>=2.0.0->pandas-dedupe) (4.0.1)\n",
      "Requirement already satisfied: doublemetaphone in c:\\users\\lucas\\anaconda3\\lib\\site-packages (from dedupe>=2.0.0->pandas-dedupe) (1.1)\n",
      "Requirement already satisfied: dedupe-variable-datetime in c:\\users\\lucas\\anaconda3\\lib\\site-packages (from dedupe>=2.0.0->pandas-dedupe) (0.1.5)\n",
      "Requirement already satisfied: Levenshtein-search in c:\\users\\lucas\\anaconda3\\lib\\site-packages (from dedupe>=2.0.0->pandas-dedupe) (1.4.5)\n",
      "Requirement already satisfied: simplecosine>=1.2 in c:\\users\\lucas\\anaconda3\\lib\\site-packages (from dedupe>=2.0.0->pandas-dedupe) (1.2)\n",
      "Requirement already satisfied: categorical-distance>=1.9 in c:\\users\\lucas\\anaconda3\\lib\\site-packages (from dedupe>=2.0.0->pandas-dedupe) (1.9)\n",
      "Requirement already satisfied: BTrees>=4.1.4 in c:\\users\\lucas\\anaconda3\\lib\\site-packages (from dedupe>=2.0.0->pandas-dedupe) (4.9.2)\n",
      "Requirement already satisfied: zope.index in c:\\users\\lucas\\anaconda3\\lib\\site-packages (from dedupe>=2.0.0->pandas-dedupe) (5.1.0)\n",
      "Requirement already satisfied: rlr>=2.4.3 in c:\\users\\lucas\\anaconda3\\lib\\site-packages (from dedupe>=2.0.0->pandas-dedupe) (2.4.6)\n",
      "Requirement already satisfied: six>=1.5 in c:\\users\\lucas\\anaconda3\\lib\\site-packages (from python-dateutil>=2.7.3->pandas->pandas-dedupe) (1.14.0)\n",
      "Requirement already satisfied: pyhacrf-datamade>=0.2.0 in c:\\users\\lucas\\anaconda3\\lib\\site-packages (from highered>=0.2.0->dedupe>=2.0.0->pandas-dedupe) (0.2.6)\n",
      "Requirement already satisfied: datetime-distance in c:\\users\\lucas\\anaconda3\\lib\\site-packages (from dedupe-variable-datetime->dedupe>=2.0.0->pandas-dedupe) (0.1.3)\n",
      "Requirement already satisfied: future in c:\\users\\lucas\\anaconda3\\lib\\site-packages (from dedupe-variable-datetime->dedupe>=2.0.0->pandas-dedupe) (0.18.2)\n",
      "Requirement already satisfied: zope.interface>=5.0.0 in c:\\users\\lucas\\anaconda3\\lib\\site-packages (from BTrees>=4.1.4->dedupe>=2.0.0->pandas-dedupe) (5.4.0)\n",
      "Requirement already satisfied: persistent>=4.1.0 in c:\\users\\lucas\\anaconda3\\lib\\site-packages (from BTrees>=4.1.4->dedupe>=2.0.0->pandas-dedupe) (4.7.0)\n",
      "Requirement already satisfied: setuptools in c:\\users\\lucas\\anaconda3\\lib\\site-packages (from zope.index->dedupe>=2.0.0->pandas-dedupe) (45.2.0.post20200210)\n",
      "Requirement already satisfied: pylbfgs in c:\\users\\lucas\\anaconda3\\lib\\site-packages (from rlr>=2.4.3->dedupe>=2.0.0->pandas-dedupe) (0.2.0.14)\n",
      "Requirement already satisfied: cffi; platform_python_implementation == \"CPython\" in c:\\users\\lucas\\anaconda3\\lib\\site-packages (from persistent>=4.1.0->BTrees>=4.1.4->dedupe>=2.0.0->pandas-dedupe) (1.14.0)\n",
      "Requirement already satisfied: pycparser in c:\\users\\lucas\\anaconda3\\lib\\site-packages (from cffi; platform_python_implementation == \"CPython\"->persistent>=4.1.0->BTrees>=4.1.4->dedupe>=2.0.0->pandas-dedupe) (2.19)\n",
      "Note: you may need to restart the kernel to use updated packages.\n"
     ]
    }
   ],
   "source": [
    "pip install pandas-dedupe"
   ]
  },
  {
   "cell_type": "code",
   "execution_count": 23,
   "metadata": {},
   "outputs": [
    {
     "name": "stdout",
     "output_type": "stream",
     "text": [
      "Collecting voila\n",
      "  Downloading voila-0.3.1-py3-none-any.whl (1.7 MB)\n",
      "Collecting nbclient<0.6,>=0.4.0\n",
      "  Downloading nbclient-0.5.10-py3-none-any.whl (69 kB)\n",
      "Collecting jupyter-server<2.0.0,>=0.3.0\n",
      "  Downloading jupyter_server-1.13.4-py3-none-any.whl (395 kB)\n",
      "Collecting nbconvert<7,>=6.0.0\n",
      "  Downloading nbconvert-6.4.1-py3-none-any.whl (557 kB)\n",
      "Collecting jupyter-client<8,>=6.1.3\n",
      "  Downloading jupyter_client-7.1.2-py3-none-any.whl (130 kB)\n",
      "Collecting websockets>=9.0\n",
      "  Downloading websockets-10.1-cp37-cp37m-win_amd64.whl (97 kB)\n",
      "Collecting traitlets<6,>=5.0.3\n",
      "  Downloading traitlets-5.1.1-py3-none-any.whl (102 kB)\n",
      "Collecting nest-asyncio\n",
      "  Downloading nest_asyncio-1.5.4-py3-none-any.whl (5.1 kB)\n",
      "Requirement already satisfied: nbformat>=5.0 in c:\\users\\lucas\\anaconda3\\lib\\site-packages (from nbclient<0.6,>=0.4.0->voila) (5.0.4)\n",
      "Collecting tornado>=6.1.0\n",
      "  Downloading tornado-6.1-cp37-cp37m-win_amd64.whl (422 kB)\n",
      "Requirement already satisfied: Send2Trash in c:\\users\\lucas\\anaconda3\\lib\\site-packages (from jupyter-server<2.0.0,>=0.3.0->voila) (1.5.0)\n",
      "Collecting anyio<4,>=3.1.0\n",
      "  Downloading anyio-3.5.0-py3-none-any.whl (79 kB)\n",
      "Requirement already satisfied: pyzmq>=17 in c:\\users\\lucas\\anaconda3\\lib\\site-packages (from jupyter-server<2.0.0,>=0.3.0->voila) (18.1.1)\n",
      "Requirement already satisfied: packaging in c:\\users\\lucas\\anaconda3\\lib\\site-packages (from jupyter-server<2.0.0,>=0.3.0->voila) (21.3)\n",
      "Collecting argon2-cffi\n",
      "  Downloading argon2_cffi-21.3.0-py3-none-any.whl (14 kB)\n",
      "Requirement already satisfied: jupyter-core>=4.6.0 in c:\\users\\lucas\\anaconda3\\lib\\site-packages (from jupyter-server<2.0.0,>=0.3.0->voila) (4.6.1)\n",
      "Requirement already satisfied: prometheus-client in c:\\users\\lucas\\anaconda3\\lib\\site-packages (from jupyter-server<2.0.0,>=0.3.0->voila) (0.7.1)\n",
      "Collecting websocket-client\n",
      "  Downloading websocket_client-1.2.3-py3-none-any.whl (53 kB)\n",
      "Requirement already satisfied: terminado>=0.8.3 in c:\\users\\lucas\\anaconda3\\lib\\site-packages (from jupyter-server<2.0.0,>=0.3.0->voila) (0.8.3)\n",
      "Requirement already satisfied: jinja2 in c:\\users\\lucas\\anaconda3\\lib\\site-packages (from jupyter-server<2.0.0,>=0.3.0->voila) (2.11.1)\n",
      "Requirement already satisfied: ipython-genutils in c:\\users\\lucas\\anaconda3\\lib\\site-packages (from jupyter-server<2.0.0,>=0.3.0->voila) (0.2.0)\n",
      "Requirement already satisfied: pandocfilters>=1.4.1 in c:\\users\\lucas\\anaconda3\\lib\\site-packages (from nbconvert<7,>=6.0.0->voila) (1.4.2)\n",
      "Collecting jupyterlab-pygments\n",
      "  Downloading jupyterlab_pygments-0.1.2-py2.py3-none-any.whl (4.6 kB)\n",
      "Requirement already satisfied: defusedxml in c:\\users\\lucas\\anaconda3\\lib\\site-packages (from nbconvert<7,>=6.0.0->voila) (0.6.0)\n",
      "Requirement already satisfied: entrypoints>=0.2.2 in c:\\users\\lucas\\anaconda3\\lib\\site-packages (from nbconvert<7,>=6.0.0->voila) (0.3)\n",
      "Requirement already satisfied: pygments>=2.4.1 in c:\\users\\lucas\\anaconda3\\lib\\site-packages (from nbconvert<7,>=6.0.0->voila) (2.5.2)\n",
      "Requirement already satisfied: mistune<2,>=0.8.1 in c:\\users\\lucas\\anaconda3\\lib\\site-packages (from nbconvert<7,>=6.0.0->voila) (0.8.4)\n",
      "Requirement already satisfied: testpath in c:\\users\\lucas\\anaconda3\\lib\\site-packages (from nbconvert<7,>=6.0.0->voila) (0.4.4)\n",
      "Requirement already satisfied: bleach in c:\\users\\lucas\\anaconda3\\lib\\site-packages (from nbconvert<7,>=6.0.0->voila) (3.1.0)\n",
      "Requirement already satisfied: python-dateutil>=2.1 in c:\\users\\lucas\\anaconda3\\lib\\site-packages (from jupyter-client<8,>=6.1.3->voila) (2.8.1)\n",
      "Requirement already satisfied: jsonschema!=2.5.0,>=2.4 in c:\\users\\lucas\\anaconda3\\lib\\site-packages (from nbformat>=5.0->nbclient<0.6,>=0.4.0->voila) (3.2.0)\n",
      "Requirement already satisfied: typing-extensions; python_version < \"3.8\" in c:\\users\\lucas\\anaconda3\\lib\\site-packages (from anyio<4,>=3.1.0->jupyter-server<2.0.0,>=0.3.0->voila) (4.0.1)\n",
      "Requirement already satisfied: idna>=2.8 in c:\\users\\lucas\\anaconda3\\lib\\site-packages (from anyio<4,>=3.1.0->jupyter-server<2.0.0,>=0.3.0->voila) (2.8)\n",
      "Requirement already satisfied: sniffio>=1.1 in c:\\users\\lucas\\anaconda3\\lib\\site-packages (from anyio<4,>=3.1.0->jupyter-server<2.0.0,>=0.3.0->voila) (1.2.0)\n",
      "Requirement already satisfied: pyparsing!=3.0.5,>=2.0.2 in c:\\users\\lucas\\anaconda3\\lib\\site-packages (from packaging->jupyter-server<2.0.0,>=0.3.0->voila) (2.4.6)\n",
      "Collecting argon2-cffi-bindings\n",
      "  Downloading argon2_cffi_bindings-21.2.0-cp36-abi3-win_amd64.whl (30 kB)\n",
      "Requirement already satisfied: pywin32>=1.0; sys_platform == \"win32\" in c:\\users\\lucas\\anaconda3\\lib\\site-packages (from jupyter-core>=4.6.0->jupyter-server<2.0.0,>=0.3.0->voila) (227)\n",
      "Requirement already satisfied: MarkupSafe>=0.23 in c:\\users\\lucas\\anaconda3\\lib\\site-packages (from jinja2->jupyter-server<2.0.0,>=0.3.0->voila) (1.1.1)\n",
      "Requirement already satisfied: six>=1.9.0 in c:\\users\\lucas\\anaconda3\\lib\\site-packages (from bleach->nbconvert<7,>=6.0.0->voila) (1.14.0)\n",
      "Requirement already satisfied: webencodings in c:\\users\\lucas\\anaconda3\\lib\\site-packages (from bleach->nbconvert<7,>=6.0.0->voila) (0.5.1)\n",
      "Requirement already satisfied: importlib-metadata; python_version < \"3.8\" in c:\\users\\lucas\\anaconda3\\lib\\site-packages (from jsonschema!=2.5.0,>=2.4->nbformat>=5.0->nbclient<0.6,>=0.4.0->voila) (1.5.0)\n",
      "Requirement already satisfied: attrs>=17.4.0 in c:\\users\\lucas\\anaconda3\\lib\\site-packages (from jsonschema!=2.5.0,>=2.4->nbformat>=5.0->nbclient<0.6,>=0.4.0->voila) (19.3.0)\n",
      "Requirement already satisfied: setuptools in c:\\users\\lucas\\anaconda3\\lib\\site-packages (from jsonschema!=2.5.0,>=2.4->nbformat>=5.0->nbclient<0.6,>=0.4.0->voila) (45.2.0.post20200210)\n",
      "Requirement already satisfied: pyrsistent>=0.14.0 in c:\\users\\lucas\\anaconda3\\lib\\site-packages (from jsonschema!=2.5.0,>=2.4->nbformat>=5.0->nbclient<0.6,>=0.4.0->voila) (0.15.7)\n",
      "Requirement already satisfied: cffi>=1.0.1 in c:\\users\\lucas\\anaconda3\\lib\\site-packages (from argon2-cffi-bindings->argon2-cffi->jupyter-server<2.0.0,>=0.3.0->voila) (1.14.0)\n",
      "Requirement already satisfied: zipp>=0.5 in c:\\users\\lucas\\anaconda3\\lib\\site-packages (from importlib-metadata; python_version < \"3.8\"->jsonschema!=2.5.0,>=2.4->nbformat>=5.0->nbclient<0.6,>=0.4.0->voila) (2.2.0)\n",
      "Requirement already satisfied: pycparser in c:\\users\\lucas\\anaconda3\\lib\\site-packages (from cffi>=1.0.1->argon2-cffi-bindings->argon2-cffi->jupyter-server<2.0.0,>=0.3.0->voila) (2.19)\n",
      "Installing collected packages: nest-asyncio, traitlets, tornado, jupyter-client, nbclient, jupyterlab-pygments, nbconvert, anyio, argon2-cffi-bindings, argon2-cffi, websocket-client, jupyter-server, websockets, voila\n",
      "  Attempting uninstall: traitlets\n",
      "    Found existing installation: traitlets 4.3.3\n",
      "    Uninstalling traitlets-4.3.3:\n",
      "      Successfully uninstalled traitlets-4.3.3\n",
      "  Attempting uninstall: tornado\n",
      "    Found existing installation: tornado 6.0.3\n",
      "    Uninstalling tornado-6.0.3:\n",
      "      Successfully uninstalled tornado-6.0.3\n",
      "  Attempting uninstall: jupyter-client\n",
      "    Found existing installation: jupyter-client 5.3.4\n",
      "    Uninstalling jupyter-client-5.3.4:\n",
      "      Successfully uninstalled jupyter-client-5.3.4\n",
      "  Attempting uninstall: nbconvert\n",
      "    Found existing installation: nbconvert 5.6.1\n",
      "    Uninstalling nbconvert-5.6.1:\n",
      "      Successfully uninstalled nbconvert-5.6.1\n",
      "Successfully installed anyio-3.5.0 argon2-cffi-21.3.0 argon2-cffi-bindings-21.2.0 jupyter-client-7.1.2 jupyter-server-1.13.4 jupyterlab-pygments-0.1.2 nbclient-0.5.10 nbconvert-6.4.1 nest-asyncio-1.5.4 tornado-6.1 traitlets-5.1.1 voila-0.3.1 websocket-client-1.2.3 websockets-10.1\n",
      "Note: you may need to restart the kernel to use updated packages.\n"
     ]
    },
    {
     "name": "stderr",
     "output_type": "stream",
     "text": [
      "ERROR: spyder 4.0.1 requires pyqtwebengine<5.13; python_version >= \"3\", which is not installed.\n",
      "ERROR: spyder 4.0.1 has requirement pyqt5<5.13; python_version >= \"3\", but you'll have pyqt5 5.15.6 which is incompatible.\n"
     ]
    }
   ],
   "source": [
    "pip install voila\n"
   ]
  },
  {
   "cell_type": "code",
   "execution_count": 4,
   "metadata": {},
   "outputs": [],
   "source": [
    "import ipywidgets as widgets\n",
    "import io\n",
    "from ipywidgets import interact, interactive, fixed, interact_manual\n",
    "import pandas as pd\n",
    "import pandas_dedupe\n",
    "import numpy as np\n",
    "from ipywidgets import HTML\n",
    "from IPython.display import display\n",
    "import base64\n",
    "import asyncio"
   ]
  },
  {
   "cell_type": "code",
   "execution_count": 5,
   "metadata": {},
   "outputs": [
    {
     "data": {
      "application/vnd.jupyter.widget-view+json": {
       "model_id": "72ac976a6bba4076bfaa78317489aff4",
       "version_major": 2,
       "version_minor": 0
      },
      "text/plain": [
       "FileUpload(value={}, description='Upload')"
      ]
     },
     "metadata": {},
     "output_type": "display_data"
    }
   ],
   "source": [
    "uploader = widgets.FileUpload()\n",
    "display(uploader)"
   ]
  },
  {
   "cell_type": "code",
   "execution_count": 6,
   "metadata": {
    "scrolled": true
   },
   "outputs": [
    {
     "data": {
      "text/html": [
       "<div>\n",
       "<style scoped>\n",
       "    .dataframe tbody tr th:only-of-type {\n",
       "        vertical-align: middle;\n",
       "    }\n",
       "\n",
       "    .dataframe tbody tr th {\n",
       "        vertical-align: top;\n",
       "    }\n",
       "\n",
       "    .dataframe thead th {\n",
       "        text-align: right;\n",
       "    }\n",
       "</style>\n",
       "<table border=\"1\" class=\"dataframe\">\n",
       "  <thead>\n",
       "    <tr style=\"text-align: right;\">\n",
       "      <th></th>\n",
       "      <th>VENDOR_ID</th>\n",
       "      <th>Vendor Name</th>\n",
       "      <th>ADDRESS1</th>\n",
       "      <th>ADDRESS2</th>\n",
       "      <th>ADDRESS3</th>\n",
       "      <th>STATE</th>\n",
       "      <th>COUNTRY</th>\n",
       "      <th>CITY</th>\n",
       "      <th>POSTAL</th>\n",
       "    </tr>\n",
       "  </thead>\n",
       "  <tbody>\n",
       "    <tr>\n",
       "      <th>0</th>\n",
       "      <td>153721</td>\n",
       "      <td>A  1 TREE FARMS (SECFIN) IA</td>\n",
       "      <td>% JAMES MONTGOMERY</td>\n",
       "      <td>274 WINFIELD DR</td>\n",
       "      <td>NaN</td>\n",
       "      <td>TN</td>\n",
       "      <td>USA</td>\n",
       "      <td>MCMINNVILLE</td>\n",
       "      <td>37110</td>\n",
       "    </tr>\n",
       "    <tr>\n",
       "      <th>1</th>\n",
       "      <td>131737</td>\n",
       "      <td>A - J, INC.</td>\n",
       "      <td>291 N HUBBARS LN STE 172</td>\n",
       "      <td>BOX 113</td>\n",
       "      <td>NaN</td>\n",
       "      <td>KY</td>\n",
       "      <td>USA</td>\n",
       "      <td>LOUISVILLE</td>\n",
       "      <td>40207</td>\n",
       "    </tr>\n",
       "    <tr>\n",
       "      <th>2</th>\n",
       "      <td>71397</td>\n",
       "      <td>A &amp; A EXCAVATING LTD</td>\n",
       "      <td>PO BOX 1</td>\n",
       "      <td>NaN</td>\n",
       "      <td>NaN</td>\n",
       "      <td>SK</td>\n",
       "      <td>CAN</td>\n",
       "      <td>KERROBERT</td>\n",
       "      <td>S0L 1R0</td>\n",
       "    </tr>\n",
       "    <tr>\n",
       "      <th>3</th>\n",
       "      <td>166584</td>\n",
       "      <td>A &amp; A FARMS</td>\n",
       "      <td>475 N 2ND ST</td>\n",
       "      <td>NaN</td>\n",
       "      <td>NaN</td>\n",
       "      <td>AR</td>\n",
       "      <td>USA</td>\n",
       "      <td>TILLAR</td>\n",
       "      <td>71670-0127</td>\n",
       "    </tr>\n",
       "    <tr>\n",
       "      <th>4</th>\n",
       "      <td>164325</td>\n",
       "      <td>A &amp; A FARMS</td>\n",
       "      <td>ANTHONY C ALBRIGHT</td>\n",
       "      <td>4821 E EVANS RD</td>\n",
       "      <td>NaN</td>\n",
       "      <td>TN</td>\n",
       "      <td>USA</td>\n",
       "      <td>CLARKSVILLE</td>\n",
       "      <td>37042</td>\n",
       "    </tr>\n",
       "  </tbody>\n",
       "</table>\n",
       "</div>"
      ],
      "text/plain": [
       "   VENDOR_ID                  Vendor Name                  ADDRESS1  \\\n",
       "0     153721  A  1 TREE FARMS (SECFIN) IA        % JAMES MONTGOMERY   \n",
       "1     131737                  A - J, INC.  291 N HUBBARS LN STE 172   \n",
       "2      71397         A & A EXCAVATING LTD                  PO BOX 1   \n",
       "3     166584                  A & A FARMS              475 N 2ND ST   \n",
       "4     164325                  A & A FARMS        ANTHONY C ALBRIGHT   \n",
       "\n",
       "          ADDRESS2 ADDRESS3 STATE COUNTRY         CITY      POSTAL  \n",
       "0  274 WINFIELD DR      NaN    TN     USA  MCMINNVILLE       37110  \n",
       "1          BOX 113      NaN    KY     USA   LOUISVILLE       40207  \n",
       "2              NaN      NaN    SK     CAN    KERROBERT     S0L 1R0  \n",
       "3              NaN      NaN    AR     USA       TILLAR  71670-0127  \n",
       "4  4821 E EVANS RD      NaN    TN     USA  CLARKSVILLE       37042  "
      ]
     },
     "execution_count": 6,
     "metadata": {},
     "output_type": "execute_result"
    }
   ],
   "source": [
    "input_file = list(uploader.value.values())[0]\n",
    "content = input_file['content']\n",
    "content = io.StringIO(content.decode('utf-8'))\n",
    "df = pd.read_csv(content)\n",
    "df.head()"
   ]
  },
  {
   "cell_type": "code",
   "execution_count": 22,
   "metadata": {},
   "outputs": [],
   "source": [
    "\n",
    "def setup_ui(df):\n",
    "    \n",
    "    out = widgets.Output()\n",
    "    with out:\n",
    "        display(df)\n",
    "    return out\n"
   ]
  },
  {
   "cell_type": "code",
   "execution_count": 14,
   "metadata": {},
   "outputs": [
    {
     "data": {
      "application/vnd.jupyter.widget-view+json": {
       "model_id": "7f1fc39a0da04b9681541112a0ab1163",
       "version_major": 2,
       "version_minor": 0
      },
      "text/plain": [
       "Button(description='run_model!', style=ButtonStyle())"
      ]
     },
     "metadata": {},
     "output_type": "display_data"
    },
    {
     "data": {
      "application/vnd.jupyter.widget-view+json": {
       "model_id": "c4561e800967464ba231628efd45dd49",
       "version_major": 2,
       "version_minor": 0
      },
      "text/plain": [
       "Output()"
      ]
     },
     "metadata": {},
     "output_type": "display_data"
    }
   ],
   "source": [
    "button = widgets.Button(description=\"run_model!\")\n",
    "output = widgets.Output()\n",
    "\n",
    "display(button, output)\n",
    "\n",
    "@output.capture()\n",
    "\n",
    "def run_model(model):\n",
    "    df_final = pandas_dedupe.dedupe_dataframe (df,['Vendor Name'], n_cores=None,update_model=False)\n",
    "    df_final.to_csv(\"C:/Users/Lucas/Downloads/sample_data_vendor_info_dedup_new2.csv\")\n",
    "    return df_final\n",
    "\n",
    "a = button.on_click(run_model)"
   ]
  },
  {
   "cell_type": "code",
   "execution_count": null,
   "metadata": {},
   "outputs": [],
   "source": []
  }
 ],
 "metadata": {
  "kernelspec": {
   "display_name": "Python 3",
   "language": "python",
   "name": "python3"
  },
  "language_info": {
   "codemirror_mode": {
    "name": "ipython",
    "version": 3
   },
   "file_extension": ".py",
   "mimetype": "text/x-python",
   "name": "python",
   "nbconvert_exporter": "python",
   "pygments_lexer": "ipython3",
   "version": "3.7.6"
  }
 },
 "nbformat": 4,
 "nbformat_minor": 4
}
